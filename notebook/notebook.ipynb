{
 "cells": [
  {
   "cell_type": "code",
   "execution_count": 64,
   "outputs": [],
   "source": [
    "import os\n",
    "import cleanup_utils as clu\n",
    "import processing as pro"
   ],
   "metadata": {
    "collapsed": false,
    "ExecuteTime": {
     "end_time": "2023-11-27T19:33:27.918756Z",
     "start_time": "2023-11-27T19:33:27.880433Z"
    }
   },
   "id": "178291ec3a91fc41"
  },
  {
   "cell_type": "markdown",
   "source": [
    "\n",
    "When analyzing the data, I approach it in two distinct phases based on the rows of the data frame. This strategy is adopted due to the markedly different types and patterns observed within the data. As a result, I work with two sets of assumptions: one for the 'Head', which includes rows 1 through 20, and another for the 'Core', which encompasses the remainder of the data. \n",
    "\n",
    "<br>\n",
    "\n",
    "## Head assumptions\n",
    " \n",
    "<br>\n",
    "\n",
    "1. The first few rows of each file are dedicated to setup and profiling details, pertaining to the device's software and user configuration. These specifics are not pertinent to the analysis of running performance.\n",
    "\n",
    "2. While the 'Message' column initially offers insights into the data type, it becomes irrelevant for further analysis once the data is classified.\n",
    "\n",
    "3. The 'Type', 'Local Number', and 'Message' columns are generally considered redundant by default.\n",
    "\n",
    "\n",
    "![First row's from each recording](data_head.png \"First row's from each recording\")\n",
    "\n",
    "\n",
    "## Core Assumptions:\n",
    "\n",
    "<br>\n",
    "\n",
    "1. A 'record' row includes relevant features for the project, such as time, distance, pace, heart rate, etc.\n",
    "2. Rows labeled as 'unknown' or 'gps_metadata' appear to contain specific encoded data or initial GPS data, which is assumed to be encapsulated in the relevant features presented in the 'record' rows.\n",
    "3. The 'unknown' rows may represent properties or device-specific information that requires further decoding and can be ignorable for performance analysis.\n",
    "\n",
    "<br>\n",
    "\n",
    "\n",
    "\n",
    "![First row's from each recording](body_pattern.png)\n"
   ],
   "metadata": {
    "collapsed": false
   },
   "id": "4e78d5d119dd1cb7"
  },
  {
   "cell_type": "markdown",
   "source": [
    "# Inner process of run_clean (pipe-line main function) \n",
    "____"
   ],
   "metadata": {
    "collapsed": false
   },
   "id": "b93815024d22f76e"
  },
  {
   "cell_type": "code",
   "execution_count": 65,
   "outputs": [],
   "source": [
    "# Function Inputs \n",
    "data_folder_path = 'Data/Before Processing'\n",
    "processed_folder_path ='Data/After Processing'\n",
    "\n",
    "# Relevant Paths List\n",
    "files_names = os.listdir(data_folder_path)\n",
    "files_path = [data_folder_path + '/' + file_name for file_name in files_names]"
   ],
   "metadata": {
    "collapsed": false,
    "ExecuteTime": {
     "end_time": "2023-11-27T19:33:27.946901Z",
     "start_time": "2023-11-27T19:33:27.907313Z"
    }
   },
   "id": "fb550ff8c3244782"
  },
  {
   "cell_type": "markdown",
   "source": [
    "# load_and_first_digest_data is pretty straight forward after \"Initial Data Analysis\""
   ],
   "metadata": {
    "collapsed": false
   },
   "id": "82f6ffbde1d39cc0"
  },
  {
   "cell_type": "code",
   "execution_count": 66,
   "outputs": [
    {
     "name": "stderr",
     "output_type": "stream",
     "text": [
      "/Users/netanelerlich/PycharmProjects/Garmin-Sports-Watch-Data-Cleanup/cleanup_utils.py:8: DtypeWarning: Columns (7,11,14,16,17,20,23,24,26,27,29,30,32,33,35,36,38,39,41,42,43,44,45,47,48,50,51,53,54,56,57,59,60,62,63,65,66,69,72,74,75,77,78,81,84,87,89,90,92,93,94,95,96,98,99,102,105,108,111,112,114,117,119,120,122,123,126,129,132,135,138,141,142,144,147,150,153,156,159,162,165,168,171,174,177,180,183,186,189,192,195,198,201,204,207,210,213,216,219,222,225,228,231,234,237,240,243,246,249,252,255,258,261,264,267,270,273,276,279,282,285,288,291,294,297,300,303,306,309,312,315,318,321,324,327,330,333,336) have mixed types. Specify dtype option on import or set low_memory=False.\n",
      "  data = pd.read_csv(path, encoding='utf-8', on_bad_lines='skip')\n"
     ]
    }
   ],
   "source": [
    "path = files_path[0]  \n",
    "frame = clu.load_and_first_digest_data(path)\n",
    "if frame.empty:\n",
    "    print(f\"Empty DataFrame, check encoding or records existence in pre processed data\")"
   ],
   "metadata": {
    "collapsed": false,
    "ExecuteTime": {
     "end_time": "2023-11-27T19:33:28.144697Z",
     "start_time": "2023-11-27T19:33:27.914803Z"
    }
   },
   "id": "7ff0a364d7237ff1"
  },
  {
   "cell_type": "markdown",
   "source": [
    "# clean_non_info_col Function"
   ],
   "metadata": {
    "collapsed": false
   },
   "id": "56bd693c668b03cf"
  },
  {
   "cell_type": "code",
   "execution_count": 67,
   "outputs": [],
   "source": [
    "pro.clean_non_info_col(frame)"
   ],
   "metadata": {
    "collapsed": false,
    "ExecuteTime": {
     "end_time": "2023-11-27T19:33:28.151477Z",
     "start_time": "2023-11-27T19:33:28.142816Z"
    }
   },
   "id": "e6736d77220c9a18"
  },
  {
   "cell_type": "markdown",
   "source": [
    "\n",
    "![Image of Titles](Titles.png)\n",
    "\n",
    "### 1. Identify Feature Columns\n",
    "- Identifies all columns that contain the word 'Field' in their headers, assuming these are feature columns.\n",
    "\n",
    "\n",
    "\n",
    "### 2. Determine Prevalent Feature Value\n",
    "- Determines the most common value using a custom function called `clu.common_feature`, which analyzes the frequency of values in the column according to a threshold.\n",
    "\n",
    "<br>\n",
    "\n",
    "- The threshold parameter indicates that a value must appear in at least 90% of the rows to be considered the prevalent value.\n",
    "     - **General Guideline:** As learned from additional research, some researchers suggest that if more than 5% of the data is missing, the researcher should provide a detailed explanation for why the data is missing and how imputations were made. If more than 15% to 20% of the data is missing, the reliability of any imputations made becomes much more questionable. For the following general processing, threshold set to 'Guideline' lower bound mean\n",
    "           - (The threshold parameter can be set in `clu.common_feature`, according to the specific data characteristics)\n",
    "\n",
    "\n",
    "### 3. Conditionally Drop Columns:\n",
    "- Data records are in a (Field, Value, Units) block, hence drops related 'Value' and 'Units' columns that are associated with the feature column.\n"
   ],
   "metadata": {
    "collapsed": false
   },
   "id": "2350ffab56f9715f"
  },
  {
   "cell_type": "markdown",
   "source": [
    "# arrange_features_columns Function"
   ],
   "metadata": {
    "collapsed": false
   },
   "id": "32b59a0e2cb93f48"
  },
  {
   "cell_type": "code",
   "execution_count": 68,
   "outputs": [],
   "source": [
    "transformed_frame = pro.arrange_features_columns(frame)"
   ],
   "metadata": {
    "collapsed": false,
    "ExecuteTime": {
     "end_time": "2023-11-27T19:33:28.714315Z",
     "start_time": "2023-11-27T19:33:28.161174Z"
    }
   },
   "id": "6c51c77c7031c761"
  },
  {
   "cell_type": "markdown",
   "source": [
    "\n",
    "\n",
    "### 1. Generate Feature List:\n",
    "- Using `clu.create_features_list(frame)`. This step involves identifying unique features from the original DataFrame to be used as headlines in the new one.\n",
    "\n",
    "<br>\n",
    "\n",
    "### 2. Extract and Organize Data:\n",
    "- Constructs a new DataFrame from a dictionary, handling missing values in each row by inserting a 'None' value.\n",
    "\n",
    "<br>\n",
    "\n",
    "### 3. Create and Return New DataFrame:\n",
    "- Performs threshold cleaning due to 'None' value \"seeding\" in the reconstructed frame, using `thresh=frame.shape[0]*0.9`.\n"
   ],
   "metadata": {
    "collapsed": false
   },
   "id": "ee360f4252498892"
  },
  {
   "cell_type": "markdown",
   "source": [
    "# imputation Function"
   ],
   "metadata": {
    "collapsed": false
   },
   "id": "dd77bfc9e690f086"
  },
  {
   "cell_type": "code",
   "execution_count": 69,
   "outputs": [
    {
     "data": {
      "text/plain": "    timestamp [s] position_lat [semicircles]  position_long [semicircles]  \\\n0      1054048548                  383162669                  415204331.0   \n1      1054048549                  383162885                  415204129.0   \n2      1054048555                  383164149                  415202638.0   \n3      1054048561                  383165243                  415200807.0   \n4      1054048566                  383165594                  415198952.0   \n..            ...                        ...                          ...   \n850    1054051690                382477431.0                  414846195.0   \n851    1054051692                382477453.0                  414846172.0   \n852    1054051698                382477284.0                  414846176.0   \n853    1054051700                382477284.0                  414846176.0   \n854    1054051705                382477247.0                  414846416.0   \n\n     distance [m]  enhanced_speed [m/s]  enhanced_altitude [m]  \\\n0            2.36                 1.857                   26.8   \n1            4.92                 2.202                   26.8   \n2           21.50                 2.118                   26.6   \n3           39.22                 2.697                   23.8   \n4           54.67                 2.902                   21.0   \n..            ...                   ...                    ...   \n850      12450.86                 1.390                   22.8   \n851      12451.68                 0.998                   23.0   \n852      12454.15                 1.185                   24.0   \n853      12454.15                 0.000                   24.4   \n854      12455.88                 1.316                   24.6   \n\n     heart_rate [bpm]  \n0               108.0  \n1               108.0  \n2               110.0  \n3               110.0  \n4               110.0  \n..                ...  \n850              99.0  \n851              99.0  \n852             102.0  \n853             103.0  \n854             103.0  \n\n[855 rows x 7 columns]",
      "text/html": "<div>\n<style scoped>\n    .dataframe tbody tr th:only-of-type {\n        vertical-align: middle;\n    }\n\n    .dataframe tbody tr th {\n        vertical-align: top;\n    }\n\n    .dataframe thead th {\n        text-align: right;\n    }\n</style>\n<table border=\"1\" class=\"dataframe\">\n  <thead>\n    <tr style=\"text-align: right;\">\n      <th></th>\n      <th>timestamp [s]</th>\n      <th>position_lat [semicircles]</th>\n      <th>position_long [semicircles]</th>\n      <th>distance [m]</th>\n      <th>enhanced_speed [m/s]</th>\n      <th>enhanced_altitude [m]</th>\n      <th>heart_rate [bpm]</th>\n    </tr>\n  </thead>\n  <tbody>\n    <tr>\n      <th>0</th>\n      <td>1054048548</td>\n      <td>383162669</td>\n      <td>415204331.0</td>\n      <td>2.36</td>\n      <td>1.857</td>\n      <td>26.8</td>\n      <td>108.0</td>\n    </tr>\n    <tr>\n      <th>1</th>\n      <td>1054048549</td>\n      <td>383162885</td>\n      <td>415204129.0</td>\n      <td>4.92</td>\n      <td>2.202</td>\n      <td>26.8</td>\n      <td>108.0</td>\n    </tr>\n    <tr>\n      <th>2</th>\n      <td>1054048555</td>\n      <td>383164149</td>\n      <td>415202638.0</td>\n      <td>21.50</td>\n      <td>2.118</td>\n      <td>26.6</td>\n      <td>110.0</td>\n    </tr>\n    <tr>\n      <th>3</th>\n      <td>1054048561</td>\n      <td>383165243</td>\n      <td>415200807.0</td>\n      <td>39.22</td>\n      <td>2.697</td>\n      <td>23.8</td>\n      <td>110.0</td>\n    </tr>\n    <tr>\n      <th>4</th>\n      <td>1054048566</td>\n      <td>383165594</td>\n      <td>415198952.0</td>\n      <td>54.67</td>\n      <td>2.902</td>\n      <td>21.0</td>\n      <td>110.0</td>\n    </tr>\n    <tr>\n      <th>...</th>\n      <td>...</td>\n      <td>...</td>\n      <td>...</td>\n      <td>...</td>\n      <td>...</td>\n      <td>...</td>\n      <td>...</td>\n    </tr>\n    <tr>\n      <th>850</th>\n      <td>1054051690</td>\n      <td>382477431.0</td>\n      <td>414846195.0</td>\n      <td>12450.86</td>\n      <td>1.390</td>\n      <td>22.8</td>\n      <td>99.0</td>\n    </tr>\n    <tr>\n      <th>851</th>\n      <td>1054051692</td>\n      <td>382477453.0</td>\n      <td>414846172.0</td>\n      <td>12451.68</td>\n      <td>0.998</td>\n      <td>23.0</td>\n      <td>99.0</td>\n    </tr>\n    <tr>\n      <th>852</th>\n      <td>1054051698</td>\n      <td>382477284.0</td>\n      <td>414846176.0</td>\n      <td>12454.15</td>\n      <td>1.185</td>\n      <td>24.0</td>\n      <td>102.0</td>\n    </tr>\n    <tr>\n      <th>853</th>\n      <td>1054051700</td>\n      <td>382477284.0</td>\n      <td>414846176.0</td>\n      <td>12454.15</td>\n      <td>0.000</td>\n      <td>24.4</td>\n      <td>103.0</td>\n    </tr>\n    <tr>\n      <th>854</th>\n      <td>1054051705</td>\n      <td>382477247.0</td>\n      <td>414846416.0</td>\n      <td>12455.88</td>\n      <td>1.316</td>\n      <td>24.6</td>\n      <td>103.0</td>\n    </tr>\n  </tbody>\n</table>\n<p>855 rows × 7 columns</p>\n</div>"
     },
     "execution_count": 69,
     "metadata": {},
     "output_type": "execute_result"
    }
   ],
   "source": [
    "pro.imputation(transformed_frame)"
   ],
   "metadata": {
    "collapsed": false,
    "ExecuteTime": {
     "end_time": "2023-11-27T19:33:28.956736Z",
     "start_time": "2023-11-27T19:33:28.742048Z"
    }
   },
   "id": "81e0dc8893d0e51e"
  },
  {
   "cell_type": "markdown",
   "source": [
    "\n",
    "---\n",
    "## KNN Imputation for Selected Columns\n",
    "\n",
    "---\n",
    "\n",
    "## Custom Imputation for Position and Altitude Columns\n",
    "\n",
    "---\n",
    "\n",
    "## Imputation for Distance Data\n",
    "- For the 'distance' column, the function uses a calculation-based approach, utilizing time and speed data.\n"
   ],
   "metadata": {
    "collapsed": false
   },
   "id": "6932f132fd4c5421"
  },
  {
   "cell_type": "code",
   "execution_count": 70,
   "outputs": [],
   "source": [
    "file_index = 1\n",
    "if processed_folder_path:\n",
    "    clu.save_to_folder(transformed_frame, \"clean_frame, \" + f'{file_index}', processed_folder_path)\n",
    "    file_index += 1"
   ],
   "metadata": {
    "collapsed": false,
    "ExecuteTime": {
     "end_time": "2023-11-27T19:33:28.963202Z",
     "start_time": "2023-11-27T19:33:28.952636Z"
    }
   },
   "id": "e265375946a333b0"
  }
 ],
 "metadata": {
  "kernelspec": {
   "display_name": "Python 3",
   "language": "python",
   "name": "python3"
  },
  "language_info": {
   "codemirror_mode": {
    "name": "ipython",
    "version": 2
   },
   "file_extension": ".py",
   "mimetype": "text/x-python",
   "name": "python",
   "nbconvert_exporter": "python",
   "pygments_lexer": "ipython2",
   "version": "2.7.6"
  }
 },
 "nbformat": 4,
 "nbformat_minor": 5
}
